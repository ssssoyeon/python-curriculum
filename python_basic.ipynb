{
  "nbformat": 4,
  "nbformat_minor": 0,
  "metadata": {
    "colab": {
      "provenance": [],
      "toc_visible": true,
      "collapsed_sections": [
        "txy8_cIETwcD",
        "qU2zpjDpb5Cl",
        "9tcgxgQtdh2o",
        "uTr3Br8hfT_C",
        "UEkUfCr2iNvx",
        "Vf_ySVtWrPQV",
        "AB3kSgzD5ZWn",
        "Twj2_Ly5DBGN",
        "hQPxOT5DMIgW",
        "T34sNQuHNFUr"
      ],
      "authorship_tag": "ABX9TyMSA7r1Fcg02kjkpaoR17/9",
      "include_colab_link": true
    },
    "kernelspec": {
      "name": "python3",
      "display_name": "Python 3"
    },
    "language_info": {
      "name": "python"
    }
  },
  "cells": [
    {
      "cell_type": "markdown",
      "metadata": {
        "id": "view-in-github",
        "colab_type": "text"
      },
      "source": [
        "<a href=\"https://colab.research.google.com/github/ssssoyeon/python-curriculum/blob/main/python_basic.ipynb\" target=\"_parent\"><img src=\"https://colab.research.google.com/assets/colab-badge.svg\" alt=\"Open In Colab\"/></a>"
      ]
    },
    {
      "cell_type": "markdown",
      "source": [
        "# 1.자료형 출력하기"
      ],
      "metadata": {
        "id": "txy8_cIETwcD"
      }
    },
    {
      "cell_type": "code",
      "source": [
        "print(\"hello python!\")"
      ],
      "metadata": {
        "colab": {
          "base_uri": "https://localhost:8080/"
        },
        "id": "g_wiuJq1Bycp",
        "outputId": "658c562c-885c-400c-9f25-2166b511e29a"
      },
      "execution_count": null,
      "outputs": [
        {
          "output_type": "stream",
          "name": "stdout",
          "text": [
            "hello python!\n"
          ]
        }
      ]
    },
    {
      "cell_type": "code",
      "source": [
        "# 정수형\n",
        "x = 10\n",
        "y = 5\n",
        "z= x+y\n",
        "\n",
        "print(z)\n",
        "print(type(z))\n",
        "print(f\"{x}와 {y}의 합은 {z}입니다.\")"
      ],
      "metadata": {
        "colab": {
          "base_uri": "https://localhost:8080/"
        },
        "id": "0VKQHrg5B3To",
        "outputId": "71cc1fbf-e2be-4cf9-d040-49e75f73a816"
      },
      "execution_count": null,
      "outputs": [
        {
          "output_type": "stream",
          "name": "stdout",
          "text": [
            "15\n",
            "<class 'int'>\n",
            "10와 5의 합은 15입니다.\n"
          ]
        }
      ]
    },
    {
      "cell_type": "code",
      "source": [
        "# 실수형\n",
        "pi=3.14159\n",
        "radius = 5\n",
        "area =pi*radius*radius\n",
        "\n",
        "print(area)\n",
        "print(f\"pi: {pi}, radius:{radius}, area:{area}\")\n",
        "print(type(area))"
      ],
      "metadata": {
        "colab": {
          "base_uri": "https://localhost:8080/"
        },
        "id": "22r5pQ3uB7Pw",
        "outputId": "67db11cc-716f-4179-9477-7f424cddd9f9"
      },
      "execution_count": null,
      "outputs": [
        {
          "output_type": "stream",
          "name": "stdout",
          "text": [
            "78.53975\n",
            "pi: 3.14159, radius:5, area:78.53975\n",
            "<class 'float'>\n"
          ]
        }
      ]
    },
    {
      "cell_type": "code",
      "source": [
        "# 문자열\n",
        "name=\"Jhon\"\n",
        "greeting = f\"Hello, {name}\"\n",
        "\n",
        "print(greeting)\n",
        "print(type(greeting))"
      ],
      "metadata": {
        "colab": {
          "base_uri": "https://localhost:8080/"
        },
        "id": "y-ksSdWcB-EX",
        "outputId": "6cc445c7-76db-473a-a2ae-305d8a1224f3"
      },
      "execution_count": null,
      "outputs": [
        {
          "output_type": "stream",
          "name": "stdout",
          "text": [
            "Hello, Jhon\n",
            "<class 'str'>\n"
          ]
        }
      ]
    },
    {
      "cell_type": "code",
      "source": [
        "# boolean\n",
        "is_active = False\n",
        "\n",
        "if is_active:\n",
        "    print(\"활성화입니다.\")\n",
        "else:\n",
        "    print(\"비활성화입니다.\")\n",
        "\n",
        "\n",
        "print(type(is_active))"
      ],
      "metadata": {
        "colab": {
          "base_uri": "https://localhost:8080/"
        },
        "id": "B4Bh908qCAZ_",
        "outputId": "0e711013-4059-4258-83c2-4648a8e2d21b"
      },
      "execution_count": null,
      "outputs": [
        {
          "output_type": "stream",
          "name": "stdout",
          "text": [
            "비활성화입니다.\n",
            "<class 'bool'>\n"
          ]
        }
      ]
    },
    {
      "cell_type": "code",
      "source": [
        "# list\n",
        "\n",
        "numbers =[1,2,3,4,5]\n",
        "numbers.append(6)\n",
        "print(numbers)\n",
        "\n",
        "print(f\"리스의 길이:{len(numbers)}\")\n",
        "print(type(numbers))"
      ],
      "metadata": {
        "colab": {
          "base_uri": "https://localhost:8080/"
        },
        "id": "kN3EZH18CC0P",
        "outputId": "07f96492-f428-48ec-f488-414bf18fc92b"
      },
      "execution_count": null,
      "outputs": [
        {
          "output_type": "stream",
          "name": "stdout",
          "text": [
            "[1, 2, 3, 4, 5, 6]\n",
            "리스의 길이:6\n",
            "<class 'list'>\n"
          ]
        }
      ]
    },
    {
      "cell_type": "code",
      "source": [
        "# tuple\n",
        "coordinates =(10,20)\n",
        "\n",
        "# coordinates[0]=30\n",
        "print(coordinates[1])\n",
        "print(type(coordinates))"
      ],
      "metadata": {
        "colab": {
          "base_uri": "https://localhost:8080/"
        },
        "id": "1jenXnf5CFH_",
        "outputId": "2527af9d-0769-45ed-99f8-df7a5de2a02e"
      },
      "execution_count": null,
      "outputs": [
        {
          "output_type": "stream",
          "name": "stdout",
          "text": [
            "20\n",
            "<class 'tuple'>\n"
          ]
        }
      ]
    },
    {
      "cell_type": "code",
      "source": [
        "# dict\n",
        "person={\n",
        "    \"name\":\"Alice\",\n",
        "    \"age\":30,\n",
        "    \"city\":\"seoul\"\n",
        "}\n",
        "print(person[\"age\"])\n",
        "print(person[\"city\"])\n",
        "print(person[\"name\"])\n",
        "print(type(person))"
      ],
      "metadata": {
        "colab": {
          "base_uri": "https://localhost:8080/"
        },
        "id": "Wizqsd-SCHO_",
        "outputId": "219abe5a-157a-4de5-dfdf-d359a11a50fe"
      },
      "execution_count": null,
      "outputs": [
        {
          "output_type": "stream",
          "name": "stdout",
          "text": [
            "30\n",
            "seoul\n",
            "Alice\n",
            "<class 'dict'>\n"
          ]
        }
      ]
    },
    {
      "cell_type": "code",
      "source": [
        "# set\n",
        "unique_numbers ={1,2,3,4,4,5,1,6}\n",
        "print(unique_numbers)\n",
        "print(type(unique_numbers))"
      ],
      "metadata": {
        "colab": {
          "base_uri": "https://localhost:8080/"
        },
        "id": "jpoyJ5AECRam",
        "outputId": "8cf22ea2-b8a8-4579-96a7-411dcb461d7d"
      },
      "execution_count": null,
      "outputs": [
        {
          "output_type": "stream",
          "name": "stdout",
          "text": [
            "{1, 2, 3, 4, 5, 6}\n",
            "<class 'set'>\n"
          ]
        }
      ]
    },
    {
      "cell_type": "markdown",
      "source": [
        "# 2.문자열 처리"
      ],
      "metadata": {
        "id": "qU2zpjDpb5Cl"
      }
    },
    {
      "cell_type": "code",
      "source": [
        "text = \"hello python!\"\n",
        "print(text)\n",
        "print(text[0])\n",
        "print(text[-1])\n",
        "print(text[0:5])\n",
        "print(text[6:])\n",
        "print(text[:5])"
      ],
      "metadata": {
        "colab": {
          "base_uri": "https://localhost:8080/"
        },
        "id": "oqILOKHYcA_8",
        "outputId": "fe686825-a824-497a-8169-3ac8cff5b2dd"
      },
      "execution_count": null,
      "outputs": [
        {
          "output_type": "stream",
          "name": "stdout",
          "text": [
            "hello python!\n",
            "h\n",
            "!\n",
            "hello\n",
            "python!\n",
            "hello\n"
          ]
        }
      ]
    },
    {
      "cell_type": "code",
      "source": [
        "name = \"Alice\"\n",
        "age = 25\n",
        "print(f\"{name}의 나이는 {age}세 입니다.\")\n",
        "print(\"{}의 나이는 {}세 입니다.\".format(name, age))"
      ],
      "metadata": {
        "colab": {
          "base_uri": "https://localhost:8080/"
        },
        "id": "O3083Eh0cZs7",
        "outputId": "b15a9f8e-2233-414b-bc93-4d1b8cb8c952"
      },
      "execution_count": null,
      "outputs": [
        {
          "output_type": "stream",
          "name": "stdout",
          "text": [
            "Alice의 나이는 25세 입니다.\n",
            "Alice의 나이는 25세 입니다.\n"
          ]
        }
      ]
    },
    {
      "cell_type": "code",
      "source": [
        "s = \"Hello Python \"\n",
        "print(s)\n",
        "print(s.strip())\n",
        "print(s.upper())\n",
        "print(s.lower())"
      ],
      "metadata": {
        "colab": {
          "base_uri": "https://localhost:8080/"
        },
        "id": "RFGk58jydBQh",
        "outputId": "31a0f148-7eff-4720-83e2-e0d68f91ad0d"
      },
      "execution_count": null,
      "outputs": [
        {
          "output_type": "stream",
          "name": "stdout",
          "text": [
            "Hello Python \n",
            "Hello Python\n",
            "HELLO PYTHON \n",
            "hello python \n"
          ]
        }
      ]
    },
    {
      "cell_type": "markdown",
      "source": [
        "# 3.사용자입력"
      ],
      "metadata": {
        "id": "9tcgxgQtdh2o"
      }
    },
    {
      "cell_type": "code",
      "source": [
        "name = input(\"이릉을 입력하세요 : \")\n",
        "age = input(\"나이를 입력하세요 : \")\n",
        "print(f\"{name}님 안녕하세요! 당신의 나이는 {age}입니다.\")"
      ],
      "metadata": {
        "colab": {
          "base_uri": "https://localhost:8080/"
        },
        "id": "3_g1WHNAdqLf",
        "outputId": "71e52144-0bf9-485c-d2f1-092199711767"
      },
      "execution_count": null,
      "outputs": [
        {
          "output_type": "stream",
          "name": "stdout",
          "text": [
            "이릉을 입력하세요 : 소연\n",
            "나이를 입력하세요 : 23\n",
            "소연님 안녕하세요! 당신의 나이는 23입니다.\n"
          ]
        }
      ]
    },
    {
      "cell_type": "code",
      "source": [
        "x,y = input(\"두 숫자를 입력하세요 : \").split(\",\")\n",
        "print(f\"x: {x}, y: {y}\")\n"
      ],
      "metadata": {
        "colab": {
          "base_uri": "https://localhost:8080/"
        },
        "id": "vXjfLrMgeS8N",
        "outputId": "f7771d09-9bf3-4238-87df-cb5b3a9be9c3"
      },
      "execution_count": null,
      "outputs": [
        {
          "output_type": "stream",
          "name": "stdout",
          "text": [
            "두 숫자를 입력하세요 : 5,10\n",
            "x: 5, y: 10\n"
          ]
        }
      ]
    },
    {
      "cell_type": "markdown",
      "source": [
        "# 4.연산자"
      ],
      "metadata": {
        "id": "uTr3Br8hfT_C"
      }
    },
    {
      "cell_type": "code",
      "source": [
        "a = int(input(\"첫번째 숫자를 입력하세요 \"))\n",
        "b = int(input(\"두번째 숫자를 입력하세요 \"))\n",
        "print(\"덧셈:\", a + b)\n",
        "print(\"뻴셈:\", a - b)\n",
        "print(\"곱셈:\", a * b)\n",
        "print(\"나눗셈:\", a / b)\n",
        "print(\"몫:\", a // b)\n",
        "print(\"나머지:\", a % b)\n",
        "print(\"나머지:\", a ** b)"
      ],
      "metadata": {
        "colab": {
          "base_uri": "https://localhost:8080/"
        },
        "id": "XmikpgjhfYnq",
        "outputId": "1b78d17c-e24c-4377-8a0c-403769dfc6db"
      },
      "execution_count": null,
      "outputs": [
        {
          "output_type": "stream",
          "name": "stdout",
          "text": [
            "첫번째 숫자를 입력하세요 20\n",
            "두번째 숫자를 입력하세요 5\n",
            "덧셈: 25\n",
            "뻴셈: 15\n",
            "곱셈: 100\n",
            "나눗셈: 4.0\n",
            "몫: 4\n",
            "나머지: 0\n",
            "나머지: 3200000\n"
          ]
        }
      ]
    },
    {
      "cell_type": "code",
      "source": [
        "age = int(input(\"나이를 입력하세요 \"))\n",
        "is_teenager = age>=13 and age<=19\n",
        "print(\"청소년 여부: \", is_teenager)"
      ],
      "metadata": {
        "colab": {
          "base_uri": "https://localhost:8080/"
        },
        "id": "LH8T4-XTgpit",
        "outputId": "4d848878-1471-4595-abb2-327197267f5b"
      },
      "execution_count": null,
      "outputs": [
        {
          "output_type": "stream",
          "name": "stdout",
          "text": [
            "나이를 입력하세요 20\n",
            "청소년 여부:  False\n"
          ]
        }
      ]
    },
    {
      "cell_type": "code",
      "source": [
        "score = int(input(\"점수를 입력하세요 \"))\n",
        "if score >= 60:\n",
        "    print(\"합격입니다.\")\n",
        "else:\n",
        "    print(\"불합격입니다.\")"
      ],
      "metadata": {
        "colab": {
          "base_uri": "https://localhost:8080/"
        },
        "id": "VEWRoeWZhUNz",
        "outputId": "1dda9a46-ca1a-4a00-96aa-13ab8181e9fc"
      },
      "execution_count": null,
      "outputs": [
        {
          "output_type": "stream",
          "name": "stdout",
          "text": [
            "점수를 입력하세요 99\n",
            "합격입니다.\n"
          ]
        }
      ]
    },
    {
      "cell_type": "markdown",
      "source": [
        "# 5.실습문제"
      ],
      "metadata": {
        "id": "UEkUfCr2iNvx"
      }
    },
    {
      "cell_type": "code",
      "source": [
        "#사용자로부터 이름과 나이를 입력받아 다음 형식으로 출력하시오.\n",
        "name = input(\"이름을 입력하세요 \")\n",
        "age = int(input(\"나이를 입력하세요 \"))\n",
        "print(f\"{name}님은 {age}세입니다.\")\n"
      ],
      "metadata": {
        "colab": {
          "base_uri": "https://localhost:8080/"
        },
        "id": "SHwcqQ3miQow",
        "outputId": "f4eb67e9-60f7-429f-f097-c71a50966890"
      },
      "execution_count": null,
      "outputs": [
        {
          "output_type": "stream",
          "name": "stdout",
          "text": [
            "이름을 입력하세요 소연\n",
            "나이를 입력하세요 23\n",
            "소연님은 23세입니다.\n"
          ]
        }
      ]
    },
    {
      "cell_type": "code",
      "source": [
        "#두 개의 정수를 입력받아, 덧셈 결과를 출력하시오.\n",
        "num1 = int(input(\"첫번째 정수를 입력하세요 \"))\n",
        "num2 = int(input(\"두번째 정수를 입력하세요 \"))\n",
        "print(f\"{num1} + {num2} = {num1+num2}\")"
      ],
      "metadata": {
        "colab": {
          "base_uri": "https://localhost:8080/"
        },
        "id": "BsMeorIGimcf",
        "outputId": "c9b0f8de-baae-424e-aaf7-efc8b9e592a2"
      },
      "execution_count": null,
      "outputs": [
        {
          "output_type": "stream",
          "name": "stdout",
          "text": [
            "첫번째 정수를 입력하세요 50\n",
            "두번째 정수를 입력하세요 50\n",
            "50 + 50 = 100\n"
          ]
        }
      ]
    },
    {
      "cell_type": "code",
      "source": [
        "#사용자로부터 반지름을 입력받아 원의 넓이를 계산하시오.\n",
        "r = int(input(\"반지름 값을 입력하세요 \"))\n",
        "pi = 3.14\n",
        "area = r * r * pi\n",
        "print(f\"원의 넓이는 {area}입니다\")\n"
      ],
      "metadata": {
        "colab": {
          "base_uri": "https://localhost:8080/"
        },
        "id": "Mek2_ZNsjmxl",
        "outputId": "71c061ff-e15b-46f0-c718-7fa2690f8f6e"
      },
      "execution_count": null,
      "outputs": [
        {
          "output_type": "stream",
          "name": "stdout",
          "text": [
            "반지름 값을 입력하세요 6\n",
            "원의 넓이는 113.04입니다\n"
          ]
        }
      ]
    },
    {
      "cell_type": "code",
      "source": [
        "#사용자로부터 정수를 입력받아 짝수인지 홀수인지 판별하시오.\n",
        "a = int(input(\"정수를 입력하세요 \"))\n",
        "if a%2==0:\n",
        "    print(\"짝수입니다\")\n",
        "else:\n",
        "    print(\"홀수입니다\")"
      ],
      "metadata": {
        "colab": {
          "base_uri": "https://localhost:8080/"
        },
        "id": "f3cUbAdekkn7",
        "outputId": "ec872fb5-e20a-4ae8-a2e6-2e0cd32c2df3"
      },
      "execution_count": null,
      "outputs": [
        {
          "output_type": "stream",
          "name": "stdout",
          "text": [
            "정수를 입력하세요 9\n",
            "홀수입니다\n"
          ]
        }
      ]
    },
    {
      "cell_type": "code",
      "source": [
        "#사용자로부터 키(cm)와 몸무게(kg)를 입력받아 BMI 지수를 계산하시오.\n",
        "height = float(input(\"키를 입력하세요 \"))\n",
        "weight = int(input(\"몸무게를 입력하세요 \"))\n",
        "\n",
        "height_m = height/100\n",
        "bmi = weight/(height_m**2)\n",
        "\n",
        "print(f\"당신의 BMI는 {bmi:.2f}입니다.\")"
      ],
      "metadata": {
        "colab": {
          "base_uri": "https://localhost:8080/"
        },
        "id": "8l4-rEklk93Q",
        "outputId": "3890db95-3255-40f6-a039-e40788185b44"
      },
      "execution_count": null,
      "outputs": [
        {
          "output_type": "stream",
          "name": "stdout",
          "text": [
            "키를 입력하세요 160\n",
            "몸무게를 입력하세요 48\n",
            "당신의 BMI는 18.75입니다.\n"
          ]
        }
      ]
    },
    {
      "cell_type": "markdown",
      "source": [
        "# 6.조건문"
      ],
      "metadata": {
        "id": "Vf_ySVtWrPQV"
      }
    },
    {
      "cell_type": "code",
      "source": [
        "x=int(input(\"숫자를 입력하세요\"))\n",
        "\n",
        "if x>10:\n",
        "    print(\"x는 10보다 큽니다.\")\n",
        "elif x>5:\n",
        "    print(\"x는 5보다 큽니다.\")\n",
        "else:\n",
        "    print(\"x는 5보다 작거나 같습니다.\")"
      ],
      "metadata": {
        "colab": {
          "base_uri": "https://localhost:8080/"
        },
        "id": "YuTvRD4pCa8W",
        "outputId": "0441c71a-ccbe-4292-93a5-6b88e82d3178"
      },
      "execution_count": null,
      "outputs": [
        {
          "output_type": "stream",
          "name": "stdout",
          "text": [
            "숫자를 입력하세요6\n",
            "x는 5보다 큽니다.\n"
          ]
        }
      ]
    },
    {
      "cell_type": "code",
      "source": [
        "age= int(input(\"나이를 입력하세요\"))\n",
        "student=input(\"학생이면 '학생', 아니면 '기타'라고 적어주세요.\")\n",
        "\n",
        "\n",
        "if age>=18:\n",
        "    if student==\"학생\":\n",
        "        print(\"성인 학생입니다.\")\n",
        "    else:\n",
        "        print(\"성인이지만, 학생은 아닙니다.\")"
      ],
      "metadata": {
        "colab": {
          "base_uri": "https://localhost:8080/"
        },
        "id": "iaujdCNNCeRG",
        "outputId": "6be2c5ac-2397-48c4-a604-353e281d74ab"
      },
      "execution_count": null,
      "outputs": [
        {
          "output_type": "stream",
          "name": "stdout",
          "text": [
            "나이를 입력하세요55\n",
            "학생이면 '학생', 아니면 '기타'라고 적어주세요.학생\n",
            "성인 학생입니다.\n"
          ]
        }
      ]
    },
    {
      "cell_type": "code",
      "source": [
        "x=3\n",
        "\n",
        "result = \"x는 5보다 큽니다.\" if x>5 else \"x는 5보다 작습니다.\"\n",
        "print(result)"
      ],
      "metadata": {
        "colab": {
          "base_uri": "https://localhost:8080/"
        },
        "id": "GxVexc6nCjwu",
        "outputId": "12cf4b2d-3104-4a18-b2ae-4fad3c85b0df"
      },
      "execution_count": null,
      "outputs": [
        {
          "output_type": "stream",
          "name": "stdout",
          "text": [
            "x는 5보다 작습니다.\n"
          ]
        }
      ]
    },
    {
      "cell_type": "code",
      "source": [
        "x=12\n",
        "\n",
        "if x>5 and x<10:\n",
        "    print(\"x는 5보다 크고, 10보다 작습니다.\")\n",
        "\n",
        "if x<5 or x>10:\n",
        "    print(\"x는 5보다  작거나, 10보다 큽니다.\")\n",
        "else:\n",
        "    print(\"x는 5이상, 10이하입니다.\")"
      ],
      "metadata": {
        "colab": {
          "base_uri": "https://localhost:8080/"
        },
        "id": "FZRy2Pi4CmAd",
        "outputId": "20c8b12d-a140-4b11-c5ed-e6598b24bc2e"
      },
      "execution_count": null,
      "outputs": [
        {
          "output_type": "stream",
          "name": "stdout",
          "text": [
            "x는 5보다  작거나, 10보다 큽니다.\n"
          ]
        }
      ]
    },
    {
      "cell_type": "code",
      "source": [
        "x=10\n",
        "y=20\n",
        "\n",
        "if x==y:\n",
        "    print(\"x와 y는 같습니다.\")\n",
        "elif x!=y:\n",
        "    print(\"x와 y는 같지 않습니다.\")"
      ],
      "metadata": {
        "colab": {
          "base_uri": "https://localhost:8080/"
        },
        "id": "jhus4PI4CqR1",
        "outputId": "b1b34efd-5390-45ce-9aeb-9de259666072"
      },
      "execution_count": null,
      "outputs": [
        {
          "output_type": "stream",
          "name": "stdout",
          "text": [
            "x와 y는 같지 않습니다.\n"
          ]
        }
      ]
    },
    {
      "cell_type": "code",
      "source": [
        "my_list =[1,2,3,4,5]\n",
        "\n",
        "if 3 in my_list:\n",
        "    print(\"리스트에 3이 포함되 있습니다.\")\n",
        "if 6 not in my_list:\n",
        "    print(\"리스트에 6이 포함되 있지 않습니다.\")"
      ],
      "metadata": {
        "colab": {
          "base_uri": "https://localhost:8080/"
        },
        "id": "v7uRJ8PuCswd",
        "outputId": "06cd984f-c6a0-4ba6-8047-9cd73cdfeaa5"
      },
      "execution_count": null,
      "outputs": [
        {
          "output_type": "stream",
          "name": "stdout",
          "text": [
            "리스트에 3이 포함되 있습니다.\n",
            "리스트에 6이 포함되 있지 않습니다.\n"
          ]
        }
      ]
    },
    {
      "cell_type": "markdown",
      "source": [
        "# 7.실습문제"
      ],
      "metadata": {
        "id": "AB3kSgzD5ZWn"
      }
    },
    {
      "cell_type": "code",
      "source": [
        "# 정수형\n",
        "x = 10\n",
        "y = 5\n",
        "z = x + y\n",
        "\n",
        "print(z)\n",
        "print(type(z))\n",
        "print(f\"{x}와 {y}의 합은 {z}입니다.\")"
      ],
      "metadata": {
        "colab": {
          "base_uri": "https://localhost:8080/"
        },
        "id": "Qzwz6eCsU3bo",
        "outputId": "a23392c8-61a3-429d-d93d-791635ce7b16"
      },
      "execution_count": null,
      "outputs": [
        {
          "output_type": "stream",
          "name": "stdout",
          "text": [
            "15\n",
            "<class 'int'>\n",
            "10와 5의 합은 15입니다.\n"
          ]
        }
      ]
    },
    {
      "cell_type": "code",
      "source": [
        "# 실수형\n",
        "pi = 3.14159\n",
        "radius = 5\n",
        "area = pi * radius * radius\n",
        "\n",
        "print(area)\n",
        "print(type(area))\n",
        "print(f\"pi:{pi}, radius: {radius}, area: {area}\")"
      ],
      "metadata": {
        "colab": {
          "base_uri": "https://localhost:8080/"
        },
        "id": "zz7t7hg5Vy3e",
        "outputId": "c77b9607-8ce1-449a-821e-0cf46cc05cbf"
      },
      "execution_count": null,
      "outputs": [
        {
          "output_type": "stream",
          "name": "stdout",
          "text": [
            "78.53975\n",
            "<class 'float'>\n",
            "pi:3.14159, radius: 5, area: 78.53975\n"
          ]
        }
      ]
    },
    {
      "cell_type": "code",
      "source": [
        "# 문자열\n",
        "name = \"john\"\n",
        "greeting = f\"Hello, {name}\"\n",
        "\n",
        "print(greeting)\n",
        "print(type(greeting))"
      ],
      "metadata": {
        "colab": {
          "base_uri": "https://localhost:8080/"
        },
        "id": "URA2QvAOWf9s",
        "outputId": "97c2b0e4-eb20-433a-df21-b76701e36d14"
      },
      "execution_count": null,
      "outputs": [
        {
          "output_type": "stream",
          "name": "stdout",
          "text": [
            "Hello, john\n",
            "<class 'str'>\n"
          ]
        }
      ]
    },
    {
      "cell_type": "code",
      "source": [
        "# boolean\n",
        "is_active = False\n",
        "if is_active:\n",
        "    print(\"활성화입니다.\")\n",
        "else:\n",
        "    print(\"비활성화입니다.\")\n",
        "\n",
        "print(type(is_active))"
      ],
      "metadata": {
        "colab": {
          "base_uri": "https://localhost:8080/"
        },
        "id": "Onn-1DM3W1Z8",
        "outputId": "8765efa5-28b8-4965-9faf-1b965fefe295"
      },
      "execution_count": null,
      "outputs": [
        {
          "output_type": "stream",
          "name": "stdout",
          "text": [
            "비활성화입니다.\n",
            "<class 'bool'>\n"
          ]
        }
      ]
    },
    {
      "cell_type": "code",
      "source": [
        "# list\n",
        "numbers = [1, 2, 3, 4, 5]\n",
        "numbers.append(6)\n",
        "\n",
        "print(f\"리스트의 길이: {len(numbers)}\")\n",
        "print(numbers)\n",
        "print(type(numbers))"
      ],
      "metadata": {
        "colab": {
          "base_uri": "https://localhost:8080/"
        },
        "id": "ptA3MLHPXmea",
        "outputId": "feef8f19-1466-4d43-ae5a-780d349b49a4"
      },
      "execution_count": null,
      "outputs": [
        {
          "output_type": "stream",
          "name": "stdout",
          "text": [
            "리스트의 길이: 6\n",
            "[1, 2, 3, 4, 5, 6]\n",
            "<class 'list'>\n"
          ]
        }
      ]
    },
    {
      "cell_type": "code",
      "source": [
        "# tuple\n",
        "coordinates = (10,20)\n",
        "\n",
        "#coordinates[0] = 30 고정값이기 때문에 값을 바꿀 수 없음\n",
        "print(coordinates[1])\n",
        "print(type(coordinates))"
      ],
      "metadata": {
        "colab": {
          "base_uri": "https://localhost:8080/"
        },
        "id": "hmMbVQAOYWJQ",
        "outputId": "ef0d8d61-1c1a-489a-a554-112f206cdc8f"
      },
      "execution_count": null,
      "outputs": [
        {
          "output_type": "stream",
          "name": "stdout",
          "text": [
            "20\n",
            "<class 'tuple'>\n"
          ]
        }
      ]
    },
    {
      "cell_type": "code",
      "source": [
        "# dict\n",
        "person = {\n",
        "    \"name\": \"Alice\",\n",
        "    \"age\": 30,\n",
        "    \"city\": \"seoul\"\n",
        "}\n",
        "print(person[\"name\"])\n",
        "print(person[\"age\"])\n",
        "print(person[\"city\"])\n",
        "print(type(person))"
      ],
      "metadata": {
        "colab": {
          "base_uri": "https://localhost:8080/"
        },
        "id": "yMJktX6cYyyg",
        "outputId": "e9c0ff06-4295-4595-8577-d08a722a786b"
      },
      "execution_count": null,
      "outputs": [
        {
          "output_type": "stream",
          "name": "stdout",
          "text": [
            "Alice\n",
            "30\n",
            "seoul\n",
            "<class 'dict'>\n"
          ]
        }
      ]
    },
    {
      "cell_type": "code",
      "source": [
        "# set\n",
        "unique_numbers = {1, 2, 3, 4, 4, 5, 6, 1}\n",
        "print(unique_numbers)\n",
        "print(type(unique_numbers))"
      ],
      "metadata": {
        "colab": {
          "base_uri": "https://localhost:8080/"
        },
        "id": "2-mpYT4HZOj_",
        "outputId": "cd800d6a-1dbc-4f27-993c-a666e6012e1e"
      },
      "execution_count": null,
      "outputs": [
        {
          "output_type": "stream",
          "name": "stdout",
          "text": [
            "{1, 2, 3, 4, 5, 6}\n",
            "<class 'set'>\n"
          ]
        }
      ]
    },
    {
      "cell_type": "code",
      "source": [
        "x = int(input(\"숫자를 입력하세요 \"))\n",
        "\n",
        "if x>10:\n",
        "    print(\"x는 10보다 큽니다.\")\n",
        "elif x>5:\n",
        "    print(\"x는 5보다 큽니다.\")\n",
        "else:\n",
        "    print(\"x는 5보다 작거나 같습니다.\")"
      ],
      "metadata": {
        "colab": {
          "base_uri": "https://localhost:8080/"
        },
        "id": "TfGEFMZcrS4k",
        "outputId": "55f76112-b68d-43e8-d518-a504d385dd89"
      },
      "execution_count": null,
      "outputs": [
        {
          "output_type": "stream",
          "name": "stdout",
          "text": [
            "숫자를 입력하세요 1\n",
            "x는 5보다 작거나 같습니다.\n"
          ]
        }
      ]
    },
    {
      "cell_type": "code",
      "source": [
        "age = int(input(\"나이를 입력하세요 \"))\n",
        "student = input(\"학생이면 '학생', 아니면 '기타'라고 적어주세요. \")\n",
        "\n",
        "if age>=18:\n",
        "    if student == \"학생\":\n",
        "        print(\"대학생입니다.\")\n",
        "    else:\n",
        "        print(\"성인이지만, 학생은 아닙니다.\")"
      ],
      "metadata": {
        "colab": {
          "base_uri": "https://localhost:8080/"
        },
        "id": "BFLtGqbhsAWi",
        "outputId": "5c965363-bfdd-48fb-cad5-78b1e32aeaf8"
      },
      "execution_count": null,
      "outputs": [
        {
          "output_type": "stream",
          "name": "stdout",
          "text": [
            "나이를 입력하세요 23\n",
            "학생이면 '학생', 아니면 '기타'라고 적어주세요. 기타\n",
            "성인이지만, 학생은 아닙니다.\n"
          ]
        }
      ]
    },
    {
      "cell_type": "code",
      "source": [
        "x=3\n",
        "\n",
        "result = \"x는 5보다 큽니다.\" if x>5 else \"x는 5보다 작습니다.\"\n",
        "print(result)"
      ],
      "metadata": {
        "colab": {
          "base_uri": "https://localhost:8080/"
        },
        "id": "Bzv2V1NXtYUG",
        "outputId": "76e94526-fa9f-43fc-d68c-03c4f49a7669"
      },
      "execution_count": null,
      "outputs": [
        {
          "output_type": "stream",
          "name": "stdout",
          "text": [
            "x는 5보다 작습니다.\n"
          ]
        }
      ]
    },
    {
      "cell_type": "code",
      "source": [
        "x=12\n",
        "\n",
        "if x>5 and x<10:\n",
        "    print(\"x는 5보다 크고, 10보다 작습니다.\")\n",
        "\n",
        "if x<5 or x>10:\n",
        "    print(\"x는 5보다 작거나, 10보다 큽니다.\")\n",
        "else:\n",
        "    print(\"x는 5이상, 10이하입니다.\")"
      ],
      "metadata": {
        "colab": {
          "base_uri": "https://localhost:8080/"
        },
        "id": "x1Zjw1WutyHV",
        "outputId": "c809e958-90ac-45a3-ae67-1f8c05ce5e71"
      },
      "execution_count": null,
      "outputs": [
        {
          "output_type": "stream",
          "name": "stdout",
          "text": [
            "x는 5보다 작거나, 10보다 큽니다.\n"
          ]
        }
      ]
    },
    {
      "cell_type": "code",
      "source": [
        "x=10\n",
        "y=20\n",
        "\n",
        "if x==y:\n",
        "    print(\"x와 y는 같습니다.\")\n",
        "elif x!=y:\n",
        "    print(\"x와 y는 같지 않습니다.\")"
      ],
      "metadata": {
        "colab": {
          "base_uri": "https://localhost:8080/"
        },
        "id": "04cKfZLjucBr",
        "outputId": "539a8b20-d11c-4529-f523-912cb77c30db"
      },
      "execution_count": null,
      "outputs": [
        {
          "output_type": "stream",
          "name": "stdout",
          "text": [
            "x와 y는 같지 않습니다.\n"
          ]
        }
      ]
    },
    {
      "cell_type": "code",
      "source": [
        "my_list = [1,2,3,4,5]\n",
        "if 3 in my_list:\n",
        "    print(\"리스트에 3이 포함되어 있습니다.\")\n",
        "if 6 not in my_list:\n",
        "    print(\"리스트에 6이 포함되어 있지않습니다.\")"
      ],
      "metadata": {
        "colab": {
          "base_uri": "https://localhost:8080/"
        },
        "id": "uayIitSAux36",
        "outputId": "94a2b06b-04a2-4625-95aa-2e5dacc29ba4"
      },
      "execution_count": null,
      "outputs": [
        {
          "output_type": "stream",
          "name": "stdout",
          "text": [
            "리스트에 3이 포함되어 있습니다.\n",
            "리스트에 6이 포함되어 있지않습니다.\n"
          ]
        }
      ]
    },
    {
      "cell_type": "markdown",
      "source": [
        "# 8-3 배열반복문"
      ],
      "metadata": {
        "id": "Twj2_Ly5DBGN"
      }
    },
    {
      "cell_type": "code",
      "source": [
        "nums=[]\n",
        "for num in range(10):\n",
        "    num+=1\n",
        "\n",
        "    nums.append(num)\n",
        "\n",
        "print(nums)\n",
        "\n",
        "for i in range(1,11,2):\n",
        "    print(i)"
      ],
      "metadata": {
        "colab": {
          "base_uri": "https://localhost:8080/"
        },
        "id": "HWcOvhuSDGhk",
        "outputId": "4912882f-b721-496c-c92f-5f82ba1bff5a"
      },
      "execution_count": null,
      "outputs": [
        {
          "output_type": "stream",
          "name": "stdout",
          "text": [
            "[1, 2, 3, 4, 5, 6, 7, 8, 9, 10]\n",
            "1\n",
            "3\n",
            "5\n",
            "7\n",
            "9\n"
          ]
        }
      ]
    },
    {
      "cell_type": "code",
      "source": [
        "str1 = \"안녕하세요\"\n",
        "\n",
        "num = int(input(\"숫자를 입력하세요: \"))\n",
        "\n",
        "for i in range(num):\n",
        "    print(str1)"
      ],
      "metadata": {
        "colab": {
          "base_uri": "https://localhost:8080/"
        },
        "id": "pip0P-DqE8r3",
        "outputId": "333390fa-e575-45e8-9237-f42b943c39f5"
      },
      "execution_count": null,
      "outputs": [
        {
          "output_type": "stream",
          "name": "stdout",
          "text": [
            "숫자를 입력하세요: 4\n",
            "안녕하세요\n",
            "안녕하세요\n",
            "안녕하세요\n",
            "안녕하세요\n"
          ]
        }
      ]
    },
    {
      "cell_type": "code",
      "source": [
        "result=\"\"\n",
        "for i in range(1,101,2):\n",
        "    result+=str(i+1)+\",\"\n",
        "print(result.rstrip(\",\"))\n",
        "    # print(i+1)"
      ],
      "metadata": {
        "colab": {
          "base_uri": "https://localhost:8080/"
        },
        "id": "oE1mJ6nBGEhk",
        "outputId": "85be8b57-11ef-4c0d-f476-6e137671557b"
      },
      "execution_count": null,
      "outputs": [
        {
          "output_type": "stream",
          "name": "stdout",
          "text": [
            "2,4,6,8,10,12,14,16,18,20,22,24,26,28,30,32,34,36,38,40,42,44,46,48,50,52,54,56,58,60,62,64,66,68,70,72,74,76,78,80,82,84,86,88,90,92,94,96,98,100\n"
          ]
        }
      ]
    },
    {
      "cell_type": "code",
      "source": [
        "nums = []\n",
        "\n",
        "for num in range(5):\n",
        "    num = int(input(f\"{num+1}번 숫자를 입력하세요\"))\n",
        "\n",
        "    nums.append(num)\n",
        "\n",
        "print(nums)\n"
      ],
      "metadata": {
        "colab": {
          "base_uri": "https://localhost:8080/"
        },
        "id": "lChiFetkHrqv",
        "outputId": "f01f1863-ac22-4c95-c723-edb842a6c72f"
      },
      "execution_count": null,
      "outputs": [
        {
          "output_type": "stream",
          "name": "stdout",
          "text": [
            "1번 숫자를 입력하세요4\n",
            "2번 숫자를 입력하세요8\n",
            "3번 숫자를 입력하세요9\n",
            "4번 숫자를 입력하세요3\n",
            "5번 숫자를 입력하세요5\n",
            "[4, 8, 9, 3, 5]\n"
          ]
        }
      ]
    },
    {
      "cell_type": "code",
      "source": [
        "sum = 0\n",
        "\n",
        "for i in range(11):\n",
        "    sum+=i\n",
        "print(f\"총 합은: {sum} \")"
      ],
      "metadata": {
        "colab": {
          "base_uri": "https://localhost:8080/"
        },
        "id": "2Kj7zvxNI3uL",
        "outputId": "aeaa3ef6-ae0c-40f6-ac16-334cc62439f8"
      },
      "execution_count": null,
      "outputs": [
        {
          "output_type": "stream",
          "name": "stdout",
          "text": [
            "총 합은: 55 \n"
          ]
        }
      ]
    },
    {
      "cell_type": "markdown",
      "source": [
        "# 9-1 함수의 정의"
      ],
      "metadata": {
        "id": "hQPxOT5DMIgW"
      }
    },
    {
      "cell_type": "code",
      "source": [
        "def greet(name):\n",
        "    return f\"Hello, {name}!\"\n",
        "\n",
        "message = greet(\"Alice\")\n",
        "print(message)"
      ],
      "metadata": {
        "colab": {
          "base_uri": "https://localhost:8080/"
        },
        "id": "jAclxe64MMME",
        "outputId": "9298227f-207f-4aae-8b54-e108d2cae8c7"
      },
      "execution_count": 1,
      "outputs": [
        {
          "output_type": "stream",
          "name": "stdout",
          "text": [
            "Hello, Alice!\n"
          ]
        }
      ]
    },
    {
      "cell_type": "code",
      "source": [
        "def add(a,b):\n",
        "    return a+b\n",
        "\n",
        "result = add(5,9)\n",
        "\n",
        "print(result)\n",
        "\n",
        "def multy(x,y,z):\n",
        "    return x*y*z\n",
        "\n",
        "result2 = multy(3,2,1)\n",
        "\n",
        "print(result2)"
      ],
      "metadata": {
        "colab": {
          "base_uri": "https://localhost:8080/"
        },
        "id": "xpD2447XMdv0",
        "outputId": "3e59c2bc-ccc4-41a0-9c78-c39bf9b42e58"
      },
      "execution_count": 3,
      "outputs": [
        {
          "output_type": "stream",
          "name": "stdout",
          "text": [
            "14\n",
            "6\n"
          ]
        }
      ]
    },
    {
      "cell_type": "markdown",
      "source": [
        "# 9-2 함수의 유형"
      ],
      "metadata": {
        "id": "T34sNQuHNFUr"
      }
    },
    {
      "cell_type": "code",
      "source": [
        "#매개변수, 반환값이 없는 함수\n",
        "def say_hello():\n",
        "    print(\"hello\")\n",
        "\n",
        "say_hello()"
      ],
      "metadata": {
        "colab": {
          "base_uri": "https://localhost:8080/"
        },
        "id": "jZtHGxRUNIwq",
        "outputId": "6ba90c0c-8d60-446d-a843-6221e0284b52"
      },
      "execution_count": 4,
      "outputs": [
        {
          "output_type": "stream",
          "name": "stdout",
          "text": [
            "hello\n"
          ]
        }
      ]
    },
    {
      "cell_type": "code",
      "source": [
        "def greet(name=\"guest\"):\n",
        "    print(f\"hello {name}님!\")\n",
        "greet(\"Alice\")\n",
        "greet()\n",
        "\n",
        "def new_greet(user=\"guest\", age=13):\n",
        "    # 님의 나이는 살입니다...\n",
        "    print(f\"{user}님의 나이는 {age}살 입니다.\")\n",
        "\n",
        "new_greet(\"soyeon\", 23)\n",
        "new_greet()"
      ],
      "metadata": {
        "colab": {
          "base_uri": "https://localhost:8080/"
        },
        "id": "20_UUKAVMonL",
        "outputId": "1ee95166-b69e-4b56-863a-83d3b24c3f9d"
      },
      "execution_count": 13,
      "outputs": [
        {
          "output_type": "stream",
          "name": "stdout",
          "text": [
            "hello Alice님!\n",
            "hello guest님!\n",
            "soyeon님의 나이는 23살 입니다.\n",
            "guest님의 나이는 13살 입니다.\n"
          ]
        }
      ]
    },
    {
      "cell_type": "code",
      "source": [
        "def add_numbers(*keyword):\n",
        "    return sum(keyword)\n",
        "print(add_numbers(1,2,3))"
      ],
      "metadata": {
        "colab": {
          "base_uri": "https://localhost:8080/"
        },
        "id": "ZzkNxyTjPV9b",
        "outputId": "4431dbdf-4d27-4c2f-e8d7-60abe47974dc"
      },
      "execution_count": 14,
      "outputs": [
        {
          "output_type": "stream",
          "name": "stdout",
          "text": [
            "6\n"
          ]
        }
      ]
    },
    {
      "cell_type": "code",
      "source": [
        "def print_info(**keys):\n",
        "    for key, value in keys.items():\n",
        "        print(f\"{key}:{value}\")\n",
        "print_info(name=\"Alice\", age=25, city=\"Seoul\")\n"
      ],
      "metadata": {
        "colab": {
          "base_uri": "https://localhost:8080/"
        },
        "id": "hiPXsmMOP_9i",
        "outputId": "196ce494-5544-4dee-a3af-1d1d2c152b68"
      },
      "execution_count": 15,
      "outputs": [
        {
          "output_type": "stream",
          "name": "stdout",
          "text": [
            "name:Alice\n",
            "age:25\n",
            "city:Seoul\n"
          ]
        }
      ]
    },
    {
      "cell_type": "markdown",
      "source": [
        "# 9-3 lambda"
      ],
      "metadata": {
        "id": "GwQRDHWmRS0H"
      }
    },
    {
      "cell_type": "code",
      "source": [
        "square = lambda x:x**2\n",
        "print(square(5))\n",
        "print(square(6))\n",
        "\n",
        "circle= lambda a,b,c:a*b*c\n",
        "print(circle(1,2,3))"
      ],
      "metadata": {
        "colab": {
          "base_uri": "https://localhost:8080/"
        },
        "id": "KnJMjIwXRXgV",
        "outputId": "022d79d3-a5a0-4abc-9398-387f0b8bfb81"
      },
      "execution_count": 17,
      "outputs": [
        {
          "output_type": "stream",
          "name": "stdout",
          "text": [
            "25\n",
            "36\n",
            "6\n"
          ]
        }
      ]
    },
    {
      "cell_type": "markdown",
      "source": [
        "# 9-4 실습예제"
      ],
      "metadata": {
        "id": "XsSdFgFuSOTU"
      }
    },
    {
      "cell_type": "code",
      "source": [
        "numbers = [1,2,3,4,5]\n",
        "\n",
        "squares = list(map(lambda x:x**2, numbers))\n",
        "\n",
        "print(squares)"
      ],
      "metadata": {
        "colab": {
          "base_uri": "https://localhost:8080/"
        },
        "id": "jjPJTG1zSSGb",
        "outputId": "c050633a-ea2b-4ec0-8412-046070e55ee4"
      },
      "execution_count": 19,
      "outputs": [
        {
          "output_type": "stream",
          "name": "stdout",
          "text": [
            "[1, 4, 9, 16, 25]\n"
          ]
        }
      ]
    },
    {
      "cell_type": "code",
      "source": [
        "numbers = [10,15,21,30,33,40]\n",
        "\n",
        "result = list(filter(lambda x:x%3==0, numbers))\n",
        "\n",
        "print(result)"
      ],
      "metadata": {
        "colab": {
          "base_uri": "https://localhost:8080/"
        },
        "id": "tjPkzRsWTBgi",
        "outputId": "d30d3fc4-ba7c-45f3-88ab-c6df21beb1e2"
      },
      "execution_count": 20,
      "outputs": [
        {
          "output_type": "stream",
          "name": "stdout",
          "text": [
            "[15, 21, 30, 33]\n"
          ]
        }
      ]
    },
    {
      "cell_type": "code",
      "source": [
        "students = [\n",
        "    (\"홍길동\",90),\n",
        "    (\"이순신\",80),\n",
        "    (\"유관순\",60)\n",
        "]\n",
        "sorted_students = sorted(students, key=lambda x:x[1], reverse=True)\n",
        "\n",
        "print(sorted_students)"
      ],
      "metadata": {
        "colab": {
          "base_uri": "https://localhost:8080/"
        },
        "id": "NrtfFYrOTBfN",
        "outputId": "05d6f8e7-ea93-472f-bdb4-b61ead644308"
      },
      "execution_count": 21,
      "outputs": [
        {
          "output_type": "stream",
          "name": "stdout",
          "text": [
            "[('홍길동', 90), ('이순신', 80), ('유관순', 60)]\n"
          ]
        }
      ]
    }
  ]
}